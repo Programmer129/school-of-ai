{
 "cells": [
  {
   "cell_type": "markdown",
   "metadata": {},
   "source": [
    "# Linear_algebra-2"
   ]
  },
  {
   "cell_type": "markdown",
   "metadata": {},
   "source": [
    "#### Prove that:\n",
    "For every linear function $f:V \\to U$ between vector spaces $V$ and $U$ on the real numbers, every sequence of vectors $v_1, v_2, \\dots v_m \\in V$ and every scalars $a_1, a_2, \\dots, a_m \\in \\mathbb{R}$:\n",
    "<br>\n",
    "$$f(a_1v_1 + a_2v_2 + \\dots + a_mv_m) = a_1f(v_1) + a_2f(v_2) + \\dots + a_mf(v_m)$$"
   ]
  },
  {
   "cell_type": "markdown",
   "metadata": {},
   "source": [
    "We use properties of linear map.<br>\n",
    "Map $f:X \\to Y$ between vector spaces $\\mathbb{U}$ and $\\mathbb{V}$ is called linear (or linear transformation) if for every $u, v \\in \\mathbb(U)$ and every scalar $\\alpha \\in \\mathbb{R}^{1}$ we have:\n",
    "- $f(u + v) = f(u) + f(v)$\n",
    "- $f(\\alpha u) = \\alpha f(u)$"
   ]
  },
  {
   "cell_type": "code",
   "execution_count": null,
   "metadata": {},
   "outputs": [],
   "source": []
  }
 ],
 "metadata": {
  "kernelspec": {
   "display_name": "school-of-ai",
   "language": "python",
   "name": "school-of-ai"
  }
 },
 "nbformat": 4,
 "nbformat_minor": 2
}
