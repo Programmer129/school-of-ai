{
 "cells": [
  {
   "cell_type": "markdown",
   "metadata": {},
   "source": [
    "# Linear Algebra"
   ]
  },
  {
   "cell_type": "markdown",
   "metadata": {},
   "source": [
    "#### Prove that:\n",
    "<br>\n",
    "$A \\subseteq A$"
   ]
  },
  {
   "cell_type": "markdown",
   "metadata": {},
   "source": [
    "By the deffiniton: Subset $B \\subseteq A$ if for every $x$ element of $B$, $x \\in A$. We have got, that for every $x$ element of $A$,  $x \\in A$."
   ]
  },
  {
   "cell_type": "markdown",
   "metadata": {},
   "source": [
    "#### Prove that:\n",
    "<br>\n",
    "If $A \\subseteq B$ and $B \\subseteq A$ $\\to$ $A = B$"
   ]
  },
  {
   "cell_type": "markdown",
   "metadata": {},
   "source": [
    "$A \\subseteq B$ means that if $x\\in A$ then $x\\in B$. $B \\subseteq A$ means that if $x\\in B$ then $x\\in A$.<br>\n",
    "And we have got $A=B$"
   ]
  },
  {
   "cell_type": "markdown",
   "metadata": {},
   "source": [
    "#### Prove that:\n",
    "<br>\n",
    "if $B \\subset A$ then $A \\cap B = B$"
   ]
  },
  {
   "cell_type": "markdown",
   "metadata": {},
   "source": [
    "Assume that $B\\subset A$ which means for every $x\\in B$ we have $x\\in A$. Lets prove that $A \\cap B = B$.If $x\\in A \\cap B$ so $x\\in A$ and $x\\in B$ so we have got $x\\in B$. Therefor if $x\\in B$ by the condition $x\\in A$ too so we can write $x\\in A \\cap B$."
   ]
  },
  {
   "cell_type": "markdown",
   "metadata": {},
   "source": [
    "#### Prove that:\n",
    "<br>\n",
    "$A \\cap B = B \\cap A$"
   ]
  },
  {
   "cell_type": "markdown",
   "metadata": {},
   "source": [
    "Proof $(A \\cap B = B \\cap A)$. If $x$ is any element in $A \\cap B$, then we know by definition of intersection that $x \\in A$ and $x \\in B$. Hence, $x \\in B$ and $x \\in A$, and so, $x \\in B \\cap A$. Therefore, $A \\cap B \\subseteq B \\cap A$.<br>\n",
    "The reverse inclusion is again identical: if $x$ is any element of $B \\cap A$, then we know $x \\in B$ and $x \\in A$. Hence, $x \\in A$ and $x \\in B$. This implies $x \\in A \\cap B$. Hence, $B \\cap A \\subseteq A \\cap B$.\n",
    "So, $A \\cap B = B \\cap A$."
   ]
  },
  {
   "cell_type": "markdown",
   "metadata": {},
   "source": [
    "#### Prove that:\n",
    "<br>\n",
    "if $B \\subset A$ then $A \\cup B = A$"
   ]
  },
  {
   "cell_type": "markdown",
   "metadata": {},
   "source": [
    "Assume that $B\\subset A$ which means for every $x\\in B$ we have $x\\in A$. Lets prove that $A \\cup B = B$.If $x\\in A \\cup B$ so $x\\in A$ or $x\\in B$. If $x\\in A$ the equation is correct and if $x\\in B$ by the condition $x\\in A$. Therefor if $x\\in A$ then $x\\in A\\cup B$."
   ]
  },
  {
   "cell_type": "markdown",
   "metadata": {},
   "source": [
    "#### Prove that:\n",
    "<br>\n",
    "$A \\cup B = B \\cup A$"
   ]
  },
  {
   "cell_type": "markdown",
   "metadata": {},
   "source": [
    "Proof $(A \\cup B = B \\cup A)$. If $x$ is any element in $A \\cup B$ then, by definition of union, we have $x \\in A$ or $x \\in B$. But, if $x$ is in $A$ or $B$, then it is in $B$ or $A$, and by definition of union, this means $x \\in B \\cup A$. Therefore, $A \\cup B \\subseteq B \\cup A$.<br>\n",
    "The other inclusion is identical: if $x$ is any element of $B \\cup A$, then we know $x \\in B$ or $x \\in A$. But, $x \\in B$ or $x \\in A$ implies that $x$ is in $A$ or $B$; and hence, $x \\in A \\cup B$. Therefore, $B\\ \\cup A \\subseteq A \\cup B$.\n",
    "Hence, $A \\cup B = B \\cup A$. "
   ]
  },
  {
   "cell_type": "markdown",
   "metadata": {},
   "source": [
    "#### Prove that:\n",
    "<br>\n",
    "$$A \\cap (B \\cup C)=(A \\cap B) \\cup (A\\cap C)$$\n",
    "$$A \\cup (B \\cap C)=(A \\cup B) \\cap (A\\cup C)$$"
   ]
  },
  {
   "cell_type": "markdown",
   "metadata": {},
   "source": [
    "Proof $(A \\cap (B \\cup C) = (A \\cap B) \\cup (A \\cap C))$. Let $x$ be an arbitrary element of $A \\cap (B \\cup C)$. This means that $x \\in A$ and $x \\in (B \\cup C)$. Further, since $x \\in (B \\cup C)$ we know $x \\in B$ or $x \\in C$. But then, this implies $x \\in (A \\cap B)$ or $x \\in (A \\cap C)$ depending on whether $x \\in B$ or $x \\in C$, respectively. Then, since $x \\in (A \\cap B)$ or $x \\in (A \\cap C)$, we have $x \\in (A \\cap B) \\cup (A \\cap C)$. Thus, $A \\cap (B \\cup C) \\subseteq (A \\cap B) \\cup (A \\cap C)$.<br>\n",
    "For the opposite inclusion, we let $x$ be an arbitrary element of $(A \\cap B) \\cup (A \\cap C)$. This means that $x \\in (A \\cap B)$ or $x \\in (A \\cap C)$. If $x \\in (A \\cap B)$ then $x \\in A$ and $x \\in B$, while if $x \\in (A \\cap C)$ we have $x \\in A$ and $x \\in C$. Thus, we have $x \\in A$ no matter what, and either $x \\in B$ or $x \\in C$. Since $x \\in B$ or $x \\in C$, we know $x \\in (B \\cup C)$. Since we already had that $x \\in A$ no matter what, we now have $x \\in A \\cap (B \\cup C)$. Therefore, $(A \\cap B) \\cup (A \\cap C) \\subseteq A \\cap (B \\cup C)$.\n",
    "Hence, $A \\cap (B \\cup C) = (A \\cap B) \\cup (A \\cap C)$.<br>\n",
    "Proof $(A \\cup (B \\cap C) = (A \\cup B) \\cap (A \\cup C))$. Let x be an arbitrary element of $A \\cup (B \\cap C)$. This means $x \\in A$ or $x \\in (B \\cap C)$. If $x \\in A$ then $x \\in A \\cup B$ and $x \\in A \\cup C$. Hence, $x \\in (A \\cup B) \\cap (A \\cup C)$. Otherwise, if $x \\in (B \\cap C)$ then $x \\in B$ and $x \\in C$. Hence, $x \\in A \\cup B$ and $x \\in A \\cup C$; therefore, $x \\in (A \\cup B) \\cap (A \\cup C)$. Therefore, $A \\cup (B \\cap C) \\subseteq (A \\cup B) \\cap (A \\cup C)$.<br>\n",
    "For the reverse inclusion, let $x$ be an arbitrary element of $(A \\cup B) \\cap (A \\cup C)$. This means $x \\in (A \\cup B)$ and $x \\in (A \\cup C)$. This implies that $x \\in A$ or$ x \\in B$ and$ x \\in C$ (since if $x \\notin A$ then the fact that $x \\in A \\cup B$ and $x \\in A \\cup C$ means $x$ must be in both $B$ and $C$). If $x \\in A$, then $x \\in A \\cup (B \\cap C)$. On the other hand, if $ \\in B$ and $x \\in C$, then $x \\in B \\cap C$. Hence, $x \\in A \\cup (B \\cap C)$. Therefore, $(A \\cup B) \\cap (A \\cup C) \\subseteq A \\cup (B \\cap C)$.\n",
    "Therefore, $A \\cup (B \\cap C) = (A \\cup B) \\cap (A \\cup C)$"
   ]
  },
  {
   "cell_type": "markdown",
   "metadata": {},
   "source": [
    "Prove that $(AB)^{T} = B^{T}A^{T}$ for each pair of matrices $A, B \\in \\mathbb{R}^{n \\times m}$"
   ]
  },
  {
   "cell_type": "markdown",
   "metadata": {},
   "source": [
    "Let $A=[a]_{mn}$ and $B=[b]_{np}$ and let $AB=[c]_{mp}$.<br>\n",
    "So $(AB)^{T}=[r]_{pm}$ matrix.\n",
    "The dimensions are correct, because $AB$ is an $mxp$ matrix, thus makin $(AB)^{T}$ a $pxm$ matrix.<br>\n",
    "thus<br>\n",
    "$\\forall j\\in[1...p],i\\in [1..m]: r_{ji}=\\displaystyle{\\sum_{k=1}^n{ a_{ik}\\circ b_{kj}}}$<br>\n",
    " Now,let $B^{T}A^{T}=[s]_{pm}$.Again, the dimensions are correct because $B^T$ is $pxn$ matrix and $A^T$ is $nxm$ matrix. Thus <br>\n",
    "$\\forall j\\in[1...p],i\\in [1..m]: s_{ji}=\\displaystyle{\\sum_{k=1}^n{b_{kj}\\circ a_{ik}}}$<br>\n",
    "A and B is a commutative ring, then $a_{ik}\\circ b_{kj}=b_{kj}\\circ a_{ik}$<br>\n",
    "Thus it can be seen that $r_{ji}=s_{ji}$ and the result follow."
   ]
  },
  {
   "cell_type": "markdown",
   "metadata": {},
   "source": [
    "Write combination for $XOR$ calculation"
   ]
  },
  {
   "cell_type": "markdown",
   "metadata": {},
   "source": [
    "$x_1'x_2 + x_1x_2'$<br>\n",
    "$(x_1 + x_2)(x_1'+ x_2')$"
   ]
  },
  {
   "cell_type": "code",
   "execution_count": null,
   "metadata": {},
   "outputs": [],
   "source": []
  }
 ],
 "metadata": {
  "kernelspec": {
   "display_name": "school-of-ai",
   "language": "python",
   "name": "school-of-ai"
  }
 },
 "nbformat": 4,
 "nbformat_minor": 2
}
